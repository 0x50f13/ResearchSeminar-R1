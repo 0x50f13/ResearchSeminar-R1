{
 "cells": [
  {
   "cell_type": "code",
   "execution_count": 2,
   "id": "9f99ebae-c44c-44d2-87f2-354a55b3aefa",
   "metadata": {},
   "outputs": [],
   "source": [
    "import numpy as np\n",
    "import pandas as pd\n",
    "import matplotlib.pyplot as plt\n",
    "import datetime\n",
    "from tqdm.notebook import *"
   ]
  },
  {
   "cell_type": "code",
   "execution_count": null,
   "id": "69e80506-8916-4b15-b526-bcfc96504f6a",
   "metadata": {},
   "outputs": [],
   "source": [
    "def ma(array: np.array, window: int, progress=trange) -> np.array:\n",
    "    result = np.array([],dtype=\"float64\")\n",
    "    assert window > 1, \"Window is too small!\"\n",
    "    assert len(array) > window, \"Array passed to MA is too small!\"\n",
    "    s = sum(array[:window])\n",
    "    for i in progress(window, len(array), 1):\n",
    "            # NumPy? Nice.\n",
    "            result=np.append(result, [float(s)/float(window)])\n",
    "            s -= array[i-window]\n",
    "            s += array[i]\n",
    "    return result"
   ]
  },
  {
   "cell_type": "code",
   "execution_count": null,
   "id": "0676f427-7b29-45c5-bb1d-a01db5164893",
   "metadata": {},
   "outputs": [],
   "source": [
    "data = pd.read_csv(\"data/USDCHF.csv\")"
   ]
  },
  {
   "cell_type": "code",
   "execution_count": null,
   "id": "e22eb5de-3213-45d5-9e1b-0d5c4dc5fd62",
   "metadata": {},
   "outputs": [],
   "source": [
    "plt.plot(data)\n",
    "plt.grid()\n",
    "plt.show()"
   ]
  },
  {
   "cell_type": "code",
   "execution_count": null,
   "id": "6b4fb9fc-adb4-43cd-a70b-4631697fccb0",
   "metadata": {},
   "outputs": [],
   "source": [
    "data.head()"
   ]
  },
  {
   "cell_type": "code",
   "execution_count": null,
   "id": "5ebb92dd-8679-4ada-bb2f-6bd61872ab98",
   "metadata": {},
   "outputs": [],
   "source": [
    "# Build candles\n",
    "parse_date = lambda x: datetime.datetime.strptime(x.split(\".\")[0],\"%Y-%m-%dT%H:%M:%S\")\n",
    "def build_candles(data,build_for=\"OPEN\", frame=300):\n",
    "    assert len(data) > 0\n",
    "    d,o,h,l,c = [],[],[],[],[]\n",
    "    current_time = parse_date(data[\"TIME\"][0])\n",
    "    o.append(data[build_for][0])\n",
    "    h.append(data[build_for][0])\n",
    "    l.append(data[build_for][0])\n",
    "    c.append(data[build_for][0])\n",
    "    d.append(data[\"TIME\"][0])\n",
    "    dates = []\n",
    "    for i in trange(len(data)):\n",
    "        tm = parse_date(data[\"TIME\"][i])\n",
    "        dt = tm - current_time\n",
    "        if dt.seconds>=frame:\n",
    "            # new candle\n",
    "            current_time=tm\n",
    "            d.append(data[\"TIME\"][i])\n",
    "            o.append(data[build_for][i])\n",
    "            h.append(data[build_for][i])\n",
    "            l.append(data[build_for][i])\n",
    "            c.append(data[build_for][i])\n",
    "        else:\n",
    "            price = data[build_for][i]\n",
    "            if price > h[-1]:\n",
    "                h[-1] = price\n",
    "            if price < l[-1]:\n",
    "                l[-1] = price\n",
    "            c[-1] = price\n",
    "    return d,o,h,l,c\n",
    "            "
   ]
  },
  {
   "cell_type": "code",
   "execution_count": null,
   "id": "7644d5db-d0ea-4918-88b8-3a418d4c78ae",
   "metadata": {},
   "outputs": [],
   "source": [
    "d,o,h,l,c = build_candles(data)"
   ]
  },
  {
   "cell_type": "code",
   "execution_count": null,
   "id": "500ad4a8-52ee-440d-bf34-e697ce5c6f9f",
   "metadata": {},
   "outputs": [],
   "source": [
    "df = pd.DataFrame()\n",
    "df.insert(0,\"DATE\", d[100:])\n",
    "df.set_index(\"DATE\")\n",
    "df.insert(1,\"OPEN\", o[100:])\n",
    "df.insert(2,\"HIGH\", h[100:])\n",
    "df.insert(3,\"LOW\", l[100:])\n",
    "df.insert(4,\"CLOSE\", c[100:])\n",
    "for i in tnrange(5,100):\n",
    "    df.insert(0, \"OPEN_MA%d\"%i, ma(o,i, progress=range)[100-i:])\n",
    "    df.insert(0, \"HIGH_MA%d\"%i, ma(h,i, progress=range)[100-i:])\n",
    "    df.insert(0, \"LOW_MA%d\"%i, ma(l,i, progress=range)[100-i:])\n",
    "    df.insert(0, \"CLOSE_MA%d\"%i, ma(c,i, progress=range)[100-i:])"
   ]
  },
  {
   "cell_type": "code",
   "execution_count": null,
   "id": "3b47e4fa-c217-4756-88c7-fd0668098c81",
   "metadata": {},
   "outputs": [],
   "source": [
    "df.to_csv(f\"data/{data['SYM'][0]}_ma.csv\")\n",
    "# df = pd.read_csv(\"data/USDCHF_ma.csv\")"
   ]
  },
  {
   "cell_type": "code",
   "execution_count": null,
   "id": "b3d603bc-f56e-485a-8e00-ea9a96bf6f13",
   "metadata": {},
   "outputs": [],
   "source": [
    "plt.plot(df[\"OPEN_MA99\"][:200])\n",
    "plt.plot(df[\"OPEN\"][:200])\n",
    "plt.grid()\n",
    "plt.show()"
   ]
  },
  {
   "cell_type": "code",
   "execution_count": null,
   "id": "faa8ea73-b7b7-49be-9fcb-d7e7de65b484",
   "metadata": {},
   "outputs": [],
   "source": [
    "build_by = \"CLOSE\"\n",
    "eps = 5*10**-5\n",
    "Y = np.array([])\n",
    "c_1 = 0\n",
    "c_2 = 0\n",
    "c_3 = 0\n",
    "for i in tnrange(1,len(df),1):\n",
    "    if df[build_by][i]-df[build_by][i-1] > eps:\n",
    "        Y = np.append(Y, [1])\n",
    "        c_1 += 1\n",
    "    elif df[build_by][i-1]-df[build_by][i] > eps:\n",
    "        Y = np.append(Y, [-1])\n",
    "        c_2 += 1\n",
    "    else:\n",
    "        Y = np.append(Y, [0])\n",
    "        c_3 += 1\n",
    "print(\"Class 1: %.3f%%\"%(100.0*c_1/len(df)))\n",
    "print(\"Class 2: %.3f%%\"%(100.0*c_2/len(df)))\n",
    "print(\"Class 3: %.3f%%\"%(100.0*c_3/len(df)))"
   ]
  },
  {
   "cell_type": "code",
   "execution_count": null,
   "id": "677b6ef8-c2fa-4813-bcbf-8482a3e65094",
   "metadata": {},
   "outputs": [],
   "source": [
    "# Normalize df\n",
    "df = (df-df.mean())/df.std()"
   ]
  },
  {
   "cell_type": "code",
   "execution_count": null,
   "id": "d0d260c9-60d3-426f-8336-bf989aa27867",
   "metadata": {},
   "outputs": [],
   "source": [
    "df2=df[:-1]\n",
    "df2.insert(0,\"CLASS\",Y)\n",
    "df2.to_csv(f\"data/{data['SYM'][0]}_normalized.csv\")"
   ]
  },
  {
   "cell_type": "code",
   "execution_count": 26,
   "id": "c2c8b339-38d4-489f-9aa5-2dcfd6ed16d3",
   "metadata": {},
   "outputs": [],
   "source": [
    "df = pd.read_csv(\"data/USD_CHF_normalized.csv\")\n",
    "import torch\n",
    "import torch.nn as nn\n",
    "import torch.optim as optim\n",
    "import torch.nn.functional as F\n",
    "#from sklearn.model_selection import train_test_split <-- do not work on aarch64"
   ]
  },
  {
   "cell_type": "code",
   "execution_count": 27,
   "id": "2d8ea58f-177a-40d6-9f73-7afa4fe8a9b7",
   "metadata": {},
   "outputs": [
    {
     "name": "stdout",
     "output_type": "stream",
     "text": [
      "Using CUDA\n"
     ]
    }
   ],
   "source": [
    "cuda=torch.cuda.is_available()\n",
    "if cuda:\n",
    "    print(\"Using CUDA\")\n",
    "    device = torch.device(\"cuda:0\")\n",
    "else:\n",
    "    print(\"Using CPU\")\n",
    "    device = torch.device(\"cpu\")"
   ]
  },
  {
   "cell_type": "code",
   "execution_count": 28,
   "id": "d8615102-a4c9-4499-813d-a1179d67f6a3",
   "metadata": {},
   "outputs": [],
   "source": [
    "df = df.drop(columns=[\"Unnamed: 0\"])\n",
    "df = df.dropna(axis=1, how='all')"
   ]
  },
  {
   "cell_type": "code",
   "execution_count": 29,
   "id": "a37f7d3e-7f6c-4479-aa4e-fb683f78ab99",
   "metadata": {},
   "outputs": [
    {
     "data": {
      "text/html": [
       "<div>\n",
       "<style scoped>\n",
       "    .dataframe tbody tr th:only-of-type {\n",
       "        vertical-align: middle;\n",
       "    }\n",
       "\n",
       "    .dataframe tbody tr th {\n",
       "        vertical-align: top;\n",
       "    }\n",
       "\n",
       "    .dataframe thead th {\n",
       "        text-align: right;\n",
       "    }\n",
       "</style>\n",
       "<table border=\"1\" class=\"dataframe\">\n",
       "  <thead>\n",
       "    <tr style=\"text-align: right;\">\n",
       "      <th></th>\n",
       "      <th>CLASS</th>\n",
       "      <th>CLOSE</th>\n",
       "      <th>CLOSE_MA10</th>\n",
       "      <th>CLOSE_MA11</th>\n",
       "      <th>CLOSE_MA12</th>\n",
       "      <th>CLOSE_MA13</th>\n",
       "      <th>CLOSE_MA14</th>\n",
       "      <th>CLOSE_MA15</th>\n",
       "      <th>CLOSE_MA16</th>\n",
       "      <th>CLOSE_MA17</th>\n",
       "      <th>...</th>\n",
       "      <th>OPEN_MA90</th>\n",
       "      <th>OPEN_MA91</th>\n",
       "      <th>OPEN_MA92</th>\n",
       "      <th>OPEN_MA93</th>\n",
       "      <th>OPEN_MA94</th>\n",
       "      <th>OPEN_MA95</th>\n",
       "      <th>OPEN_MA96</th>\n",
       "      <th>OPEN_MA97</th>\n",
       "      <th>OPEN_MA98</th>\n",
       "      <th>OPEN_MA99</th>\n",
       "    </tr>\n",
       "  </thead>\n",
       "  <tbody>\n",
       "    <tr>\n",
       "      <th>0</th>\n",
       "      <td>-1.0</td>\n",
       "      <td>0.268902</td>\n",
       "      <td>0.298462</td>\n",
       "      <td>0.298857</td>\n",
       "      <td>0.299669</td>\n",
       "      <td>0.300866</td>\n",
       "      <td>0.301595</td>\n",
       "      <td>0.301284</td>\n",
       "      <td>0.301635</td>\n",
       "      <td>0.301553</td>\n",
       "      <td>...</td>\n",
       "      <td>0.309046</td>\n",
       "      <td>0.308151</td>\n",
       "      <td>0.307385</td>\n",
       "      <td>0.307011</td>\n",
       "      <td>0.306521</td>\n",
       "      <td>0.306225</td>\n",
       "      <td>0.305926</td>\n",
       "      <td>0.305797</td>\n",
       "      <td>0.305593</td>\n",
       "      <td>0.305360</td>\n",
       "    </tr>\n",
       "    <tr>\n",
       "      <th>1</th>\n",
       "      <td>-1.0</td>\n",
       "      <td>0.262262</td>\n",
       "      <td>0.295058</td>\n",
       "      <td>0.295762</td>\n",
       "      <td>0.296347</td>\n",
       "      <td>0.297288</td>\n",
       "      <td>0.298569</td>\n",
       "      <td>0.299402</td>\n",
       "      <td>0.299247</td>\n",
       "      <td>0.299696</td>\n",
       "      <td>...</td>\n",
       "      <td>0.309185</td>\n",
       "      <td>0.308435</td>\n",
       "      <td>0.307557</td>\n",
       "      <td>0.306805</td>\n",
       "      <td>0.306441</td>\n",
       "      <td>0.305962</td>\n",
       "      <td>0.305674</td>\n",
       "      <td>0.305384</td>\n",
       "      <td>0.305262</td>\n",
       "      <td>0.305065</td>\n",
       "    </tr>\n",
       "    <tr>\n",
       "      <th>2</th>\n",
       "      <td>-1.0</td>\n",
       "      <td>0.248982</td>\n",
       "      <td>0.290740</td>\n",
       "      <td>0.292063</td>\n",
       "      <td>0.292956</td>\n",
       "      <td>0.293711</td>\n",
       "      <td>0.294773</td>\n",
       "      <td>0.296135</td>\n",
       "      <td>0.297067</td>\n",
       "      <td>0.297058</td>\n",
       "      <td>...</td>\n",
       "      <td>0.309388</td>\n",
       "      <td>0.308756</td>\n",
       "      <td>0.308019</td>\n",
       "      <td>0.307154</td>\n",
       "      <td>0.306414</td>\n",
       "      <td>0.306058</td>\n",
       "      <td>0.305588</td>\n",
       "      <td>0.305307</td>\n",
       "      <td>0.305024</td>\n",
       "      <td>0.304905</td>\n",
       "    </tr>\n",
       "    <tr>\n",
       "      <th>3</th>\n",
       "      <td>-1.0</td>\n",
       "      <td>0.232381</td>\n",
       "      <td>0.284762</td>\n",
       "      <td>0.286929</td>\n",
       "      <td>0.288458</td>\n",
       "      <td>0.289559</td>\n",
       "      <td>0.290502</td>\n",
       "      <td>0.291706</td>\n",
       "      <td>0.293174</td>\n",
       "      <td>0.294224</td>\n",
       "      <td>...</td>\n",
       "      <td>0.309490</td>\n",
       "      <td>0.308820</td>\n",
       "      <td>0.308200</td>\n",
       "      <td>0.307477</td>\n",
       "      <td>0.306627</td>\n",
       "      <td>0.305900</td>\n",
       "      <td>0.305553</td>\n",
       "      <td>0.305092</td>\n",
       "      <td>0.304819</td>\n",
       "      <td>0.304544</td>\n",
       "    </tr>\n",
       "    <tr>\n",
       "      <th>4</th>\n",
       "      <td>1.0</td>\n",
       "      <td>0.212461</td>\n",
       "      <td>0.275462</td>\n",
       "      <td>0.279985</td>\n",
       "      <td>0.282369</td>\n",
       "      <td>0.284129</td>\n",
       "      <td>0.285460</td>\n",
       "      <td>0.286612</td>\n",
       "      <td>0.287983</td>\n",
       "      <td>0.289583</td>\n",
       "      <td>...</td>\n",
       "      <td>0.309416</td>\n",
       "      <td>0.308810</td>\n",
       "      <td>0.308155</td>\n",
       "      <td>0.307548</td>\n",
       "      <td>0.306840</td>\n",
       "      <td>0.306005</td>\n",
       "      <td>0.305293</td>\n",
       "      <td>0.304955</td>\n",
       "      <td>0.304505</td>\n",
       "      <td>0.304241</td>\n",
       "    </tr>\n",
       "  </tbody>\n",
       "</table>\n",
       "<p>5 rows × 385 columns</p>\n",
       "</div>"
      ],
      "text/plain": [
       "   CLASS     CLOSE  CLOSE_MA10  CLOSE_MA11  CLOSE_MA12  CLOSE_MA13  \\\n",
       "0   -1.0  0.268902    0.298462    0.298857    0.299669    0.300866   \n",
       "1   -1.0  0.262262    0.295058    0.295762    0.296347    0.297288   \n",
       "2   -1.0  0.248982    0.290740    0.292063    0.292956    0.293711   \n",
       "3   -1.0  0.232381    0.284762    0.286929    0.288458    0.289559   \n",
       "4    1.0  0.212461    0.275462    0.279985    0.282369    0.284129   \n",
       "\n",
       "   CLOSE_MA14  CLOSE_MA15  CLOSE_MA16  CLOSE_MA17  ...  OPEN_MA90  OPEN_MA91  \\\n",
       "0    0.301595    0.301284    0.301635    0.301553  ...   0.309046   0.308151   \n",
       "1    0.298569    0.299402    0.299247    0.299696  ...   0.309185   0.308435   \n",
       "2    0.294773    0.296135    0.297067    0.297058  ...   0.309388   0.308756   \n",
       "3    0.290502    0.291706    0.293174    0.294224  ...   0.309490   0.308820   \n",
       "4    0.285460    0.286612    0.287983    0.289583  ...   0.309416   0.308810   \n",
       "\n",
       "   OPEN_MA92  OPEN_MA93  OPEN_MA94  OPEN_MA95  OPEN_MA96  OPEN_MA97  \\\n",
       "0   0.307385   0.307011   0.306521   0.306225   0.305926   0.305797   \n",
       "1   0.307557   0.306805   0.306441   0.305962   0.305674   0.305384   \n",
       "2   0.308019   0.307154   0.306414   0.306058   0.305588   0.305307   \n",
       "3   0.308200   0.307477   0.306627   0.305900   0.305553   0.305092   \n",
       "4   0.308155   0.307548   0.306840   0.306005   0.305293   0.304955   \n",
       "\n",
       "   OPEN_MA98  OPEN_MA99  \n",
       "0   0.305593   0.305360  \n",
       "1   0.305262   0.305065  \n",
       "2   0.305024   0.304905  \n",
       "3   0.304819   0.304544  \n",
       "4   0.304505   0.304241  \n",
       "\n",
       "[5 rows x 385 columns]"
      ]
     },
     "execution_count": 29,
     "metadata": {},
     "output_type": "execute_result"
    }
   ],
   "source": [
    "df.head()"
   ]
  },
  {
   "cell_type": "code",
   "execution_count": 30,
   "id": "7ee50491-1708-4f33-bb3c-08946648f31a",
   "metadata": {},
   "outputs": [],
   "source": [
    "X = np.array(df)\n",
    "X = np.delete(X, len(X[0])-1, 1)\n",
    "Y = np.array(df[\"CLASS\"])"
   ]
  },
  {
   "cell_type": "code",
   "execution_count": 31,
   "id": "e28bc119-7ab4-483e-a18e-66b96a5e1e98",
   "metadata": {},
   "outputs": [
    {
     "data": {
      "text/plain": [
       "(50159, 384)"
      ]
     },
     "execution_count": 31,
     "metadata": {},
     "output_type": "execute_result"
    }
   ],
   "source": [
    "X.shape"
   ]
  },
  {
   "cell_type": "code",
   "execution_count": 32,
   "id": "8d3aac5d-3e41-4e3e-9414-f398d9a1dab4",
   "metadata": {},
   "outputs": [
    {
     "data": {
      "text/plain": [
       "(50159,)"
      ]
     },
     "execution_count": 32,
     "metadata": {},
     "output_type": "execute_result"
    }
   ],
   "source": [
    "Y.shape"
   ]
  },
  {
   "cell_type": "code",
   "execution_count": 33,
   "id": "688cc5c2-ad87-42f8-8665-cfc4d34ae80f",
   "metadata": {},
   "outputs": [
    {
     "data": {
      "application/vnd.jupyter.widget-view+json": {
       "model_id": "726893e77cc9486fa919de4fdca875c0",
       "version_major": 2,
       "version_minor": 0
      },
      "text/plain": [
       "  0%|          | 0/50159 [00:00<?, ?it/s]"
      ]
     },
     "metadata": {},
     "output_type": "display_data"
    }
   ],
   "source": [
    "# We should NOT shuffle train/test data, since it may bias backtesting result\n",
    "X_train, X_test, Y_train, Y_test = [],[],[],[]\n",
    "TRAIN_FACTOR = 0.7\n",
    "for i in tnrange(len(df)):\n",
    "    if i < TRAIN_FACTOR*len(df):\n",
    "        X_train.append(X[i])\n",
    "        Y_train.append(Y[i])\n",
    "    else:\n",
    "        X_test.append(X[i])\n",
    "        Y_test.append(Y[i]) \n",
    "X_train = np.array(X_train)\n",
    "Y_train = np.array(Y_train)\n",
    "X_test = np.array(X_test)\n",
    "Y_test = np.array(Y_test)"
   ]
  },
  {
   "cell_type": "code",
   "execution_count": 37,
   "id": "a216f031-50be-464c-a8da-50656a5dab12",
   "metadata": {},
   "outputs": [],
   "source": [
    "model = nn.Sequential(\n",
    "    nn.Linear(384,384),\n",
    "    nn.Tanh(),\n",
    "    nn.Linear(384,285),\n",
    "    nn.LeakyReLU(),\n",
    "    nn.Linear(285,185),\n",
    "    nn.Tanh(),\n",
    "    nn.Linear(185,85),\n",
    "    nn.ELU(),\n",
    "    nn.Linear(85,3),\n",
    "    nn.Softmax()\n",
    ")\n",
    "criterion = nn.CrossEntropyLoss().to(device) # <--- WORST LOSS IMPLEMENTATION EVER!!1\n",
    "optimizer = optim.SGD(model.parameters(), lr = 0.01)\n",
    "model = model.to(device)"
   ]
  },
  {
   "cell_type": "code",
   "execution_count": 38,
   "id": "97ef36c9-6f46-458b-ac5d-af457c093cf1",
   "metadata": {},
   "outputs": [],
   "source": [
    "BATCH_SIZE = 128\n",
    "N_EPOCHS = 100\n",
    "def get_targets(Y):\n",
    "    Y_targets = []\n",
    "    for x in Y:\n",
    "        assert x in [-1,0,1]\n",
    "        if x==-1:\n",
    "            Y_targets.append([1,0,0])\n",
    "        if x==0:\n",
    "            Y_targets.append([0,1,0])\n",
    "        if x==1:\n",
    "            Y_targets.append([0,0,1])\n",
    "    return Y_targets"
   ]
  },
  {
   "cell_type": "code",
   "execution_count": 39,
   "id": "8944b8f6-e5ce-420d-9486-e57f4936bece",
   "metadata": {},
   "outputs": [
    {
     "data": {
      "application/vnd.jupyter.widget-view+json": {
       "model_id": "ba77c0609ea1439da0df269bc8ab2f37",
       "version_major": 2,
       "version_minor": 0
      },
      "text/plain": [
       "  0%|          | 0/100 [00:00<?, ?it/s]"
      ]
     },
     "metadata": {},
     "output_type": "display_data"
    }
   ],
   "source": [
    "losses = []\n",
    "for i in tnrange(N_EPOCHS):\n",
    "    indices = np.random.choice(X_train.shape[0], BATCH_SIZE, replace=False)\n",
    "    sample_x = X_train[indices]\n",
    "    sample_y = Y_train[indices]\n",
    "    avg_loss = 0.0\n",
    "    for j in range(BATCH_SIZE):\n",
    "        x = torch.Tensor(sample_x[j]).to(device)\n",
    "        target = torch.Tensor([sample_y[j]+1]).type(torch.LongTensor).to(device)\n",
    "        optimizer.zero_grad()\n",
    "        output = model(x)\n",
    "        #print(output)\n",
    "        output = output.reshape((1,3)).float()\n",
    "        loss = criterion(output, target)\n",
    "        avg_loss += float(loss)\n",
    "        loss.backward()\n",
    "        optimizer.step()\n",
    "    avg_loss /= BATCH_SIZE\n",
    "    losses.append(avg_loss)"
   ]
  },
  {
   "cell_type": "code",
   "execution_count": 40,
   "id": "c57b10d9-7f96-430d-afb7-276906a26ebf",
   "metadata": {},
   "outputs": [
    {
     "data": {
      "text/plain": [
       "[1.0997621454298496,\n",
       " 1.0932670030742884,\n",
       " 1.099083243869245,\n",
       " 1.0864075860008597,\n",
       " 1.0906901392154396]"
      ]
     },
     "execution_count": 40,
     "metadata": {},
     "output_type": "execute_result"
    }
   ],
   "source": [
    "losses[:5]"
   ]
  },
  {
   "cell_type": "code",
   "execution_count": 41,
   "id": "c2e5df52-7eb6-4ccf-bcc8-e09debaad884",
   "metadata": {},
   "outputs": [
    {
     "data": {
      "image/png": "[encoded data removed]",
      "text/plain": [
       "<matplotlib.figure.Figure at 0x7f642b9da0>"
      ]
     },
     "metadata": {
      "needs_background": "light"
     },
     "output_type": "display_data"
    }
   ],
   "source": [
    "plt.plot(losses)\n",
    "plt.show()"
   ]
  },
  {
   "cell_type": "code",
   "execution_count": 45,
   "id": "e8120524-8e4e-4399-a449-12db83e19d3a",
   "metadata": {},
   "outputs": [],
   "source": [
    "def acc(X,Y):\n",
    "    err_cnt = 0\n",
    "    correct_cnt = 0\n",
    "    for i in tnrange(len(X)):\n",
    "        x = torch.tensor(X[i], dtype=torch.double).float().to(device)\n",
    "        y = Y[i]\n",
    "        _y = model(x)\n",
    "        if _y[0] > _y[1] and _y[0] > _[2]:\n",
    "            cls = -1\n",
    "        elif _y[1] > _y[2] and _y[1]>_y[0]:\n",
    "            cls = 0\n",
    "        else:\n",
    "            cls = 1\n",
    "        if round(y) != cls:\n",
    "            err_cnt+=1\n",
    "        else:\n",
    "            correct_cnt+=1\n",
    "    return correct_cnt/(correct_cnt+err_cnt)"
   ]
  },
  {
   "cell_type": "code",
   "execution_count": 46,
   "id": "73548971-d170-4749-b20a-e600d54359a8",
   "metadata": {},
   "outputs": [
    {
     "data": {
      "application/vnd.jupyter.widget-view+json": {
       "model_id": "3c527d0325ab4dde88939321c23945cc",
       "version_major": 2,
       "version_minor": 0
      },
      "text/plain": [
       "  0%|          | 0/15047 [00:00<?, ?it/s]"
      ]
     },
     "metadata": {},
     "output_type": "display_data"
    },
    {
     "data": {
      "text/plain": [
       "0.6569415830398087"
      ]
     },
     "execution_count": 46,
     "metadata": {},
     "output_type": "execute_result"
    }
   ],
   "source": [
    "acc(X_test, Y_test)"
   ]
  },
  {
   "cell_type": "code",
   "execution_count": 48,
   "id": "dd11dfa8-71db-46b9-81fc-a5523264c89f",
   "metadata": {},
   "outputs": [],
   "source": [
    "# TODO: Deeper anlysis of misclassification, dataset improvements(corelation, lags, etc.)"
   ]
  },
  {
   "cell_type": "code",
   "execution_count": null,
   "id": "c3c7402d-b671-4b7a-b5af-3be9067a47b9",
   "metadata": {},
   "outputs": [],
   "source": []
  }
 ],
 "metadata": {
  "kernelspec": {
   "display_name": "Python 3",
   "language": "python",
   "name": "python3"
  },
  "language_info": {
   "codemirror_mode": {
    "name": "ipython",
    "version": 3
   },
   "file_extension": ".py",
   "mimetype": "text/x-python",
   "name": "python",
   "nbconvert_exporter": "python",
   "pygments_lexer": "ipython3",
   "version": "3.6.9"
  }
 },
 "nbformat": 4,
 "nbformat_minor": 5
}
