{
 "cells": [
  {
   "cell_type": "code",
   "execution_count": 1,
   "id": "9f99ebae-c44c-44d2-87f2-354a55b3aefa",
   "metadata": {},
   "outputs": [],
   "source": [
    "import numpy as np\n",
    "import pandas as pd\n",
    "import matplotlib.pyplot as plt\n",
    "import datetime\n",
    "from tqdm.notebook import *"
   ]
  },
  {
   "cell_type": "code",
   "execution_count": null,
   "id": "69e80506-8916-4b15-b526-bcfc96504f6a",
   "metadata": {},
   "outputs": [],
   "source": [
    "def ma(array: np.array, window: int, progress=trange) -> np.array:\n",
    "    result = np.array([],dtype=\"float64\")\n",
    "    assert window > 1, \"Window is too small!\"\n",
    "    assert len(array) > window, \"Array passed to MA is too small!\"\n",
    "    s = sum(array[:window])\n",
    "    for i in progress(window, len(array), 1):\n",
    "            # NumPy? Nice.\n",
    "            result=np.append(result, [float(s)/float(window)])\n",
    "            s -= array[i-window]\n",
    "            s += array[i]\n",
    "    return result"
   ]
  },
  {
   "cell_type": "code",
   "execution_count": null,
   "id": "0676f427-7b29-45c5-bb1d-a01db5164893",
   "metadata": {},
   "outputs": [],
   "source": [
    "data = pd.read_csv(\"data/USDCHF.csv\")"
   ]
  },
  {
   "cell_type": "code",
   "execution_count": null,
   "id": "e22eb5de-3213-45d5-9e1b-0d5c4dc5fd62",
   "metadata": {},
   "outputs": [],
   "source": [
    "plt.plot(data)\n",
    "plt.grid()\n",
    "plt.show()"
   ]
  },
  {
   "cell_type": "code",
   "execution_count": null,
   "id": "6b4fb9fc-adb4-43cd-a70b-4631697fccb0",
   "metadata": {},
   "outputs": [],
   "source": [
    "data.head()"
   ]
  },
  {
   "cell_type": "code",
   "execution_count": null,
   "id": "5ebb92dd-8679-4ada-bb2f-6bd61872ab98",
   "metadata": {},
   "outputs": [],
   "source": [
    "# Build candles\n",
    "parse_date = lambda x: datetime.datetime.strptime(x.split(\".\")[0],\"%Y-%m-%dT%H:%M:%S\")\n",
    "def build_candles(data,build_for=\"OPEN\", frame=300):\n",
    "    assert len(data) > 0\n",
    "    d,o,h,l,c = [],[],[],[],[]\n",
    "    current_time = parse_date(data[\"TIME\"][0])\n",
    "    o.append(data[build_for][0])\n",
    "    h.append(data[build_for][0])\n",
    "    l.append(data[build_for][0])\n",
    "    c.append(data[build_for][0])\n",
    "    d.append(data[\"TIME\"][0])\n",
    "    dates = []\n",
    "    for i in trange(len(data)):\n",
    "        tm = parse_date(data[\"TIME\"][i])\n",
    "        dt = tm - current_time\n",
    "        if dt.seconds>=frame:\n",
    "            # new candle\n",
    "            current_time=tm\n",
    "            d.append(data[\"TIME\"][i])\n",
    "            o.append(data[build_for][i])\n",
    "            h.append(data[build_for][i])\n",
    "            l.append(data[build_for][i])\n",
    "            c.append(data[build_for][i])\n",
    "        else:\n",
    "            price = data[build_for][i]\n",
    "            if price > h[-1]:\n",
    "                h[-1] = price\n",
    "            if price < l[-1]:\n",
    "                l[-1] = price\n",
    "            c[-1] = price\n",
    "    return d,o,h,l,c\n",
    "            "
   ]
  },
  {
   "cell_type": "code",
   "execution_count": null,
   "id": "7644d5db-d0ea-4918-88b8-3a418d4c78ae",
   "metadata": {},
   "outputs": [],
   "source": [
    "d,o,h,l,c = build_candles(data)"
   ]
  },
  {
   "cell_type": "code",
   "execution_count": null,
   "id": "500ad4a8-52ee-440d-bf34-e697ce5c6f9f",
   "metadata": {},
   "outputs": [],
   "source": [
    "df = pd.DataFrame()\n",
    "df.insert(0,\"DATE\", d[100:])\n",
    "df.set_index(\"DATE\")\n",
    "df.insert(1,\"OPEN\", o[100:])\n",
    "df.insert(2,\"HIGH\", h[100:])\n",
    "df.insert(3,\"LOW\", l[100:])\n",
    "df.insert(4,\"CLOSE\", c[100:])\n",
    "for i in tnrange(5,100):\n",
    "    df.insert(0, \"OPEN_MA%d\"%i, ma(o,i, progress=range)[100-i:])\n",
    "    df.insert(0, \"HIGH_MA%d\"%i, ma(h,i, progress=range)[100-i:])\n",
    "    df.insert(0, \"LOW_MA%d\"%i, ma(l,i, progress=range)[100-i:])\n",
    "    df.insert(0, \"CLOSE_MA%d\"%i, ma(c,i, progress=range)[100-i:])"
   ]
  },
  {
   "cell_type": "code",
   "execution_count": null,
   "id": "3b47e4fa-c217-4756-88c7-fd0668098c81",
   "metadata": {},
   "outputs": [],
   "source": [
    "df.to_csv(f\"data/{data['SYM'][0]}_ma.csv\")\n",
    "# df = pd.read_csv(\"data/USDCHF_ma.csv\")"
   ]
  },
  {
   "cell_type": "code",
   "execution_count": null,
   "id": "b3d603bc-f56e-485a-8e00-ea9a96bf6f13",
   "metadata": {},
   "outputs": [],
   "source": [
    "plt.plot(df[\"OPEN_MA99\"][:200])\n",
    "plt.plot(df[\"OPEN\"][:200])\n",
    "plt.grid()\n",
    "plt.show()"
   ]
  },
  {
   "cell_type": "code",
   "execution_count": null,
   "id": "faa8ea73-b7b7-49be-9fcb-d7e7de65b484",
   "metadata": {},
   "outputs": [],
   "source": [
    "build_by = \"CLOSE\"\n",
    "eps = 5*10**-5\n",
    "Y = np.array([])\n",
    "c_1 = 0\n",
    "c_2 = 0\n",
    "c_3 = 0\n",
    "for i in tnrange(1,len(df),1):\n",
    "    if df[build_by][i]-df[build_by][i-1] > eps:\n",
    "        Y = np.append(Y, [1])\n",
    "        c_1 += 1\n",
    "    elif df[build_by][i-1]-df[build_by][i] > eps:\n",
    "        Y = np.append(Y, [-1])\n",
    "        c_2 += 1\n",
    "    else:\n",
    "        Y = np.append(Y, [0])\n",
    "        c_3 += 1\n",
    "print(\"Class 1: %.3f%%\"%(100.0*c_1/len(df)))\n",
    "print(\"Class 2: %.3f%%\"%(100.0*c_2/len(df)))\n",
    "print(\"Class 3: %.3f%%\"%(100.0*c_3/len(df)))"
   ]
  },
  {
   "cell_type": "code",
   "execution_count": null,
   "id": "677b6ef8-c2fa-4813-bcbf-8482a3e65094",
   "metadata": {},
   "outputs": [],
   "source": [
    "# Normalize df\n",
    "df = (df-df.mean())/df.std()"
   ]
  },
  {
   "cell_type": "code",
   "execution_count": null,
   "id": "d0d260c9-60d3-426f-8336-bf989aa27867",
   "metadata": {},
   "outputs": [],
   "source": [
    "df2=df[:-1]\n",
    "df2.insert(0,\"CLASS\",Y)\n",
    "df2.to_csv(f\"data/{data['SYM'][0]}_normalized.csv\")"
   ]
  },
  {
   "cell_type": "code",
   "execution_count": 2,
   "id": "c2c8b339-38d4-489f-9aa5-2dcfd6ed16d3",
   "metadata": {},
   "outputs": [],
   "source": [
    "df = pd.read_csv(\"data/USD_CHF_normalized.csv\")\n",
    "import torch\n",
    "import torch.nn as nn\n",
    "import torch.optim as optim\n",
    "import torch.nn.functional as F\n",
    "#from sklearn.model_selection import train_test_split <-- do not work on aarch64"
   ]
  },
  {
   "cell_type": "code",
   "execution_count": 3,
   "id": "2d8ea58f-177a-40d6-9f73-7afa4fe8a9b7",
   "metadata": {},
   "outputs": [
    {
     "name": "stdout",
     "output_type": "stream",
     "text": [
      "Using CUDA\n"
     ]
    }
   ],
   "source": [
    "cuda=torch.cuda.is_available()\n",
    "if cuda:\n",
    "    print(\"Using CUDA\")\n",
    "    device = torch.device(\"cuda:0\")\n",
    "else:\n",
    "    print(\"Using CPU\")\n",
    "    device = torch.device(\"cpu\")"
   ]
  },
  {
   "cell_type": "code",
   "execution_count": 4,
   "id": "d8615102-a4c9-4499-813d-a1179d67f6a3",
   "metadata": {},
   "outputs": [],
   "source": [
    "df = df.drop(columns=[\"Unnamed: 0\"])\n",
    "df = df.dropna(axis=1, how='all')"
   ]
  },
  {
   "cell_type": "code",
   "execution_count": 5,
   "id": "a37f7d3e-7f6c-4479-aa4e-fb683f78ab99",
   "metadata": {},
   "outputs": [
    {
     "data": {
      "text/html": [
       "<div>\n",
       "<style scoped>\n",
       "    .dataframe tbody tr th:only-of-type {\n",
       "        vertical-align: middle;\n",
       "    }\n",
       "\n",
       "    .dataframe tbody tr th {\n",
       "        vertical-align: top;\n",
       "    }\n",
       "\n",
       "    .dataframe thead th {\n",
       "        text-align: right;\n",
       "    }\n",
       "</style>\n",
       "<table border=\"1\" class=\"dataframe\">\n",
       "  <thead>\n",
       "    <tr style=\"text-align: right;\">\n",
       "      <th></th>\n",
       "      <th>CLASS</th>\n",
       "      <th>CLOSE</th>\n",
       "      <th>CLOSE_MA10</th>\n",
       "      <th>CLOSE_MA11</th>\n",
       "      <th>CLOSE_MA12</th>\n",
       "      <th>CLOSE_MA13</th>\n",
       "      <th>CLOSE_MA14</th>\n",
       "      <th>CLOSE_MA15</th>\n",
       "      <th>CLOSE_MA16</th>\n",
       "      <th>CLOSE_MA17</th>\n",
       "      <th>...</th>\n",
       "      <th>OPEN_MA90</th>\n",
       "      <th>OPEN_MA91</th>\n",
       "      <th>OPEN_MA92</th>\n",
       "      <th>OPEN_MA93</th>\n",
       "      <th>OPEN_MA94</th>\n",
       "      <th>OPEN_MA95</th>\n",
       "      <th>OPEN_MA96</th>\n",
       "      <th>OPEN_MA97</th>\n",
       "      <th>OPEN_MA98</th>\n",
       "      <th>OPEN_MA99</th>\n",
       "    </tr>\n",
       "  </thead>\n",
       "  <tbody>\n",
       "    <tr>\n",
       "      <th>0</th>\n",
       "      <td>-1.0</td>\n",
       "      <td>0.268902</td>\n",
       "      <td>0.298462</td>\n",
       "      <td>0.298857</td>\n",
       "      <td>0.299669</td>\n",
       "      <td>0.300866</td>\n",
       "      <td>0.301595</td>\n",
       "      <td>0.301284</td>\n",
       "      <td>0.301635</td>\n",
       "      <td>0.301553</td>\n",
       "      <td>...</td>\n",
       "      <td>0.309046</td>\n",
       "      <td>0.308151</td>\n",
       "      <td>0.307385</td>\n",
       "      <td>0.307011</td>\n",
       "      <td>0.306521</td>\n",
       "      <td>0.306225</td>\n",
       "      <td>0.305926</td>\n",
       "      <td>0.305797</td>\n",
       "      <td>0.305593</td>\n",
       "      <td>0.305360</td>\n",
       "    </tr>\n",
       "    <tr>\n",
       "      <th>1</th>\n",
       "      <td>-1.0</td>\n",
       "      <td>0.262262</td>\n",
       "      <td>0.295058</td>\n",
       "      <td>0.295762</td>\n",
       "      <td>0.296347</td>\n",
       "      <td>0.297288</td>\n",
       "      <td>0.298569</td>\n",
       "      <td>0.299402</td>\n",
       "      <td>0.299247</td>\n",
       "      <td>0.299696</td>\n",
       "      <td>...</td>\n",
       "      <td>0.309185</td>\n",
       "      <td>0.308435</td>\n",
       "      <td>0.307557</td>\n",
       "      <td>0.306805</td>\n",
       "      <td>0.306441</td>\n",
       "      <td>0.305962</td>\n",
       "      <td>0.305674</td>\n",
       "      <td>0.305384</td>\n",
       "      <td>0.305262</td>\n",
       "      <td>0.305065</td>\n",
       "    </tr>\n",
       "    <tr>\n",
       "      <th>2</th>\n",
       "      <td>-1.0</td>\n",
       "      <td>0.248982</td>\n",
       "      <td>0.290740</td>\n",
       "      <td>0.292063</td>\n",
       "      <td>0.292956</td>\n",
       "      <td>0.293711</td>\n",
       "      <td>0.294773</td>\n",
       "      <td>0.296135</td>\n",
       "      <td>0.297067</td>\n",
       "      <td>0.297058</td>\n",
       "      <td>...</td>\n",
       "      <td>0.309388</td>\n",
       "      <td>0.308756</td>\n",
       "      <td>0.308019</td>\n",
       "      <td>0.307154</td>\n",
       "      <td>0.306414</td>\n",
       "      <td>0.306058</td>\n",
       "      <td>0.305588</td>\n",
       "      <td>0.305307</td>\n",
       "      <td>0.305024</td>\n",
       "      <td>0.304905</td>\n",
       "    </tr>\n",
       "    <tr>\n",
       "      <th>3</th>\n",
       "      <td>-1.0</td>\n",
       "      <td>0.232381</td>\n",
       "      <td>0.284762</td>\n",
       "      <td>0.286929</td>\n",
       "      <td>0.288458</td>\n",
       "      <td>0.289559</td>\n",
       "      <td>0.290502</td>\n",
       "      <td>0.291706</td>\n",
       "      <td>0.293174</td>\n",
       "      <td>0.294224</td>\n",
       "      <td>...</td>\n",
       "      <td>0.309490</td>\n",
       "      <td>0.308820</td>\n",
       "      <td>0.308200</td>\n",
       "      <td>0.307477</td>\n",
       "      <td>0.306627</td>\n",
       "      <td>0.305900</td>\n",
       "      <td>0.305553</td>\n",
       "      <td>0.305092</td>\n",
       "      <td>0.304819</td>\n",
       "      <td>0.304544</td>\n",
       "    </tr>\n",
       "    <tr>\n",
       "      <th>4</th>\n",
       "      <td>1.0</td>\n",
       "      <td>0.212461</td>\n",
       "      <td>0.275462</td>\n",
       "      <td>0.279985</td>\n",
       "      <td>0.282369</td>\n",
       "      <td>0.284129</td>\n",
       "      <td>0.285460</td>\n",
       "      <td>0.286612</td>\n",
       "      <td>0.287983</td>\n",
       "      <td>0.289583</td>\n",
       "      <td>...</td>\n",
       "      <td>0.309416</td>\n",
       "      <td>0.308810</td>\n",
       "      <td>0.308155</td>\n",
       "      <td>0.307548</td>\n",
       "      <td>0.306840</td>\n",
       "      <td>0.306005</td>\n",
       "      <td>0.305293</td>\n",
       "      <td>0.304955</td>\n",
       "      <td>0.304505</td>\n",
       "      <td>0.304241</td>\n",
       "    </tr>\n",
       "  </tbody>\n",
       "</table>\n",
       "<p>5 rows × 385 columns</p>\n",
       "</div>"
      ],
      "text/plain": [
       "   CLASS     CLOSE  CLOSE_MA10  CLOSE_MA11  CLOSE_MA12  CLOSE_MA13  \\\n",
       "0   -1.0  0.268902    0.298462    0.298857    0.299669    0.300866   \n",
       "1   -1.0  0.262262    0.295058    0.295762    0.296347    0.297288   \n",
       "2   -1.0  0.248982    0.290740    0.292063    0.292956    0.293711   \n",
       "3   -1.0  0.232381    0.284762    0.286929    0.288458    0.289559   \n",
       "4    1.0  0.212461    0.275462    0.279985    0.282369    0.284129   \n",
       "\n",
       "   CLOSE_MA14  CLOSE_MA15  CLOSE_MA16  CLOSE_MA17  ...  OPEN_MA90  OPEN_MA91  \\\n",
       "0    0.301595    0.301284    0.301635    0.301553  ...   0.309046   0.308151   \n",
       "1    0.298569    0.299402    0.299247    0.299696  ...   0.309185   0.308435   \n",
       "2    0.294773    0.296135    0.297067    0.297058  ...   0.309388   0.308756   \n",
       "3    0.290502    0.291706    0.293174    0.294224  ...   0.309490   0.308820   \n",
       "4    0.285460    0.286612    0.287983    0.289583  ...   0.309416   0.308810   \n",
       "\n",
       "   OPEN_MA92  OPEN_MA93  OPEN_MA94  OPEN_MA95  OPEN_MA96  OPEN_MA97  \\\n",
       "0   0.307385   0.307011   0.306521   0.306225   0.305926   0.305797   \n",
       "1   0.307557   0.306805   0.306441   0.305962   0.305674   0.305384   \n",
       "2   0.308019   0.307154   0.306414   0.306058   0.305588   0.305307   \n",
       "3   0.308200   0.307477   0.306627   0.305900   0.305553   0.305092   \n",
       "4   0.308155   0.307548   0.306840   0.306005   0.305293   0.304955   \n",
       "\n",
       "   OPEN_MA98  OPEN_MA99  \n",
       "0   0.305593   0.305360  \n",
       "1   0.305262   0.305065  \n",
       "2   0.305024   0.304905  \n",
       "3   0.304819   0.304544  \n",
       "4   0.304505   0.304241  \n",
       "\n",
       "[5 rows x 385 columns]"
      ]
     },
     "execution_count": 5,
     "metadata": {},
     "output_type": "execute_result"
    }
   ],
   "source": [
    "df.head()"
   ]
  },
  {
   "cell_type": "code",
   "execution_count": 6,
   "id": "7ee50491-1708-4f33-bb3c-08946648f31a",
   "metadata": {},
   "outputs": [],
   "source": [
    "X = np.array(df)\n",
    "X = np.delete(X, len(X[0])-1, 1)\n",
    "Y = np.array(df[\"CLASS\"])"
   ]
  },
  {
   "cell_type": "code",
   "execution_count": 7,
   "id": "e28bc119-7ab4-483e-a18e-66b96a5e1e98",
   "metadata": {},
   "outputs": [
    {
     "data": {
      "text/plain": [
       "(50159, 384)"
      ]
     },
     "execution_count": 7,
     "metadata": {},
     "output_type": "execute_result"
    }
   ],
   "source": [
    "X.shape"
   ]
  },
  {
   "cell_type": "code",
   "execution_count": 8,
   "id": "8d3aac5d-3e41-4e3e-9414-f398d9a1dab4",
   "metadata": {},
   "outputs": [
    {
     "data": {
      "text/plain": [
       "(50159,)"
      ]
     },
     "execution_count": 8,
     "metadata": {},
     "output_type": "execute_result"
    }
   ],
   "source": [
    "Y.shape"
   ]
  },
  {
   "cell_type": "code",
   "execution_count": 9,
   "id": "688cc5c2-ad87-42f8-8665-cfc4d34ae80f",
   "metadata": {},
   "outputs": [
    {
     "data": {
      "application/vnd.jupyter.widget-view+json": {
       "model_id": "2d63405703fd43ab90b2cd24505d20f1",
       "version_major": 2,
       "version_minor": 0
      },
      "text/plain": [
       "  0%|          | 0/50159 [00:00<?, ?it/s]"
      ]
     },
     "metadata": {},
     "output_type": "display_data"
    }
   ],
   "source": [
    "# We should NOT shuffle train/test data, since it may bias backtesting result\n",
    "X_train, X_test, Y_train, Y_test = [],[],[],[]\n",
    "TRAIN_FACTOR = 0.7\n",
    "for i in tnrange(len(df)):\n",
    "    if i < TRAIN_FACTOR*len(df):\n",
    "        X_train.append(X[i])\n",
    "        Y_train.append(Y[i])\n",
    "    else:\n",
    "        X_test.append(X[i])\n",
    "        Y_test.append(Y[i]) \n",
    "X_train = np.array(X_train)\n",
    "Y_train = np.array(Y_train)\n",
    "X_test = np.array(X_test)\n",
    "Y_test = np.array(Y_test)"
   ]
  },
  {
   "cell_type": "code",
   "execution_count": 10,
   "id": "a216f031-50be-464c-a8da-50656a5dab12",
   "metadata": {},
   "outputs": [],
   "source": [
    "model = nn.Sequential(\n",
    "    nn.Linear(384,384),\n",
    "    nn.Tanh(),\n",
    "    nn.Linear(384,285),\n",
    "    nn.LeakyReLU(),\n",
    "    nn.Linear(285,185),\n",
    "    nn.Tanh(),\n",
    "    nn.Linear(185,85),\n",
    "    nn.ELU(),\n",
    "    nn.Linear(85,3),\n",
    "    nn.Softmax()\n",
    ")\n",
    "criterion = nn.CrossEntropyLoss().to(device) # <--- WORST LOSS IMPLEMENTATION EVER!!1\n",
    "optimizer = optim.SGD(model.parameters(), lr = 0.01)\n",
    "model = model.to(device)"
   ]
  },
  {
   "cell_type": "code",
   "execution_count": 11,
   "id": "97ef36c9-6f46-458b-ac5d-af457c093cf1",
   "metadata": {},
   "outputs": [],
   "source": [
    "BATCH_SIZE = 128\n",
    "N_EPOCHS = 100\n",
    "def get_targets(Y):\n",
    "    Y_targets = []\n",
    "    for x in Y:\n",
    "        assert x in [-1,0,1]\n",
    "        if x==-1:\n",
    "            Y_targets.append([1,0,0])\n",
    "        if x==0:\n",
    "            Y_targets.append([0,1,0])\n",
    "        if x==1:\n",
    "            Y_targets.append([0,0,1])\n",
    "    return Y_targets"
   ]
  },
  {
   "cell_type": "code",
   "execution_count": 12,
   "id": "8944b8f6-e5ce-420d-9486-e57f4936bece",
   "metadata": {},
   "outputs": [
    {
     "data": {
      "application/vnd.jupyter.widget-view+json": {
       "model_id": "aa690df3187c4fee9429c76de95dd3d4",
       "version_major": 2,
       "version_minor": 0
      },
      "text/plain": [
       "  0%|          | 0/100 [00:00<?, ?it/s]"
      ]
     },
     "metadata": {},
     "output_type": "display_data"
    },
    {
     "name": "stderr",
     "output_type": "stream",
     "text": [
      "/home/p01ar/.local/lib/python3.6/site-packages/torch/nn/modules/container.py:119: UserWarning: Implicit dimension choice for softmax has been deprecated. Change the call to include dim=X as an argument.\n",
      "  input = module(input)\n"
     ]
    }
   ],
   "source": [
    "losses = []\n",
    "for i in tnrange(N_EPOCHS):\n",
    "    indices = np.random.choice(X_train.shape[0], BATCH_SIZE, replace=False)\n",
    "    sample_x = X_train[indices]\n",
    "    sample_y = Y_train[indices]\n",
    "    avg_loss = 0.0\n",
    "    for j in range(BATCH_SIZE):\n",
    "        x = torch.Tensor(sample_x[j]).to(device)\n",
    "        target = torch.Tensor([sample_y[j]+1]).type(torch.LongTensor).to(device)\n",
    "        optimizer.zero_grad()\n",
    "        output = model(x)\n",
    "        #print(output)\n",
    "        output = output.reshape((1,3)).float()\n",
    "        loss = criterion(output, target)\n",
    "        avg_loss += float(loss)\n",
    "        loss.backward()\n",
    "        optimizer.step()\n",
    "    avg_loss /= BATCH_SIZE\n",
    "    losses.append(avg_loss)"
   ]
  },
  {
   "cell_type": "code",
   "execution_count": 13,
   "id": "c57b10d9-7f96-430d-afb7-276906a26ebf",
   "metadata": {},
   "outputs": [
    {
     "data": {
      "text/plain": [
       "[1.0970416059717536,\n",
       " 1.0929093966260552,\n",
       " 1.098976280540228,\n",
       " 1.087204116396606,\n",
       " 1.0902032158337533]"
      ]
     },
     "execution_count": 13,
     "metadata": {},
     "output_type": "execute_result"
    }
   ],
   "source": [
    "losses[:5]"
   ]
  },
  {
   "cell_type": "code",
   "execution_count": 14,
   "id": "c2e5df52-7eb6-4ccf-bcc8-e09debaad884",
   "metadata": {},
   "outputs": [
    {
     "data": {
      "image/png": "[encoded data removed]",
      "text/plain": [
       "<matplotlib.figure.Figure at 0x7f5398ba90>"
      ]
     },
     "metadata": {
      "needs_background": "light"
     },
     "output_type": "display_data"
    }
   ],
   "source": [
    "plt.plot(losses)\n",
    "plt.show()"
   ]
  },
  {
   "cell_type": "code",
   "execution_count": 15,
   "id": "e8120524-8e4e-4399-a449-12db83e19d3a",
   "metadata": {},
   "outputs": [],
   "source": [
    "def acc(X,Y):\n",
    "    err_cnt = 0\n",
    "    correct_cnt = 0\n",
    "    for i in tnrange(len(X)):\n",
    "        x = torch.tensor(X[i], dtype=torch.double).float().to(device)\n",
    "        y = Y[i]\n",
    "        _y = model(x)\n",
    "        if _y[0] > _y[1] and _y[0] > _[2]:\n",
    "            cls = -1\n",
    "        elif _y[1] > _y[2] and _y[1]>_y[0]:\n",
    "            cls = 0\n",
    "        else:\n",
    "            cls = 1\n",
    "        if round(y) != cls:\n",
    "            err_cnt+=1\n",
    "        else:\n",
    "            correct_cnt+=1\n",
    "    return correct_cnt/(correct_cnt+err_cnt)"
   ]
  },
  {
   "cell_type": "code",
   "execution_count": 16,
   "id": "73548971-d170-4749-b20a-e600d54359a8",
   "metadata": {},
   "outputs": [
    {
     "data": {
      "application/vnd.jupyter.widget-view+json": {
       "model_id": "5626a3454f67479984daa37bce758f63",
       "version_major": 2,
       "version_minor": 0
      },
      "text/plain": [
       "  0%|          | 0/15047 [00:00<?, ?it/s]"
      ]
     },
     "metadata": {},
     "output_type": "display_data"
    },
    {
     "data": {
      "text/plain": [
       "0.6569415830398087"
      ]
     },
     "execution_count": 16,
     "metadata": {},
     "output_type": "execute_result"
    }
   ],
   "source": [
    "acc(X_test, Y_test)"
   ]
  },
  {
   "cell_type": "code",
   "execution_count": 48,
   "id": "dd11dfa8-71db-46b9-81fc-a5523264c89f",
   "metadata": {},
   "outputs": [],
   "source": [
    "# TODO: Deeper anlysis of misclassification, dataset improvements(corelation, lags, etc.), backtesting"
   ]
  },
  {
   "cell_type": "code",
   "execution_count": 23,
   "id": "07eee27f-69ed-4987-9532-83eea6b820bb",
   "metadata": {},
   "outputs": [
    {
     "data": {
      "text/html": [
       "<div>\n",
       "<style scoped>\n",
       "    .dataframe tbody tr th:only-of-type {\n",
       "        vertical-align: middle;\n",
       "    }\n",
       "\n",
       "    .dataframe tbody tr th {\n",
       "        vertical-align: top;\n",
       "    }\n",
       "\n",
       "    .dataframe thead th {\n",
       "        text-align: right;\n",
       "    }\n",
       "</style>\n",
       "<table border=\"1\" class=\"dataframe\">\n",
       "  <thead>\n",
       "    <tr style=\"text-align: right;\">\n",
       "      <th></th>\n",
       "      <th>Date</th>\n",
       "      <th>Open_F_x</th>\n",
       "      <th>Open_AAPL_x</th>\n",
       "      <th>Open_AAL_x</th>\n",
       "      <th>Open_BAC_x</th>\n",
       "      <th>Open_VALE_x</th>\n",
       "      <th>Open_CCL_x</th>\n",
       "      <th>Open_ABEV_x</th>\n",
       "      <th>Open_BB_x</th>\n",
       "      <th>Open_FCEL_x</th>\n",
       "      <th>...</th>\n",
       "      <th>Open_AMD_avg_100</th>\n",
       "      <th>Open_BBD_avg_100</th>\n",
       "      <th>Open_ITUB_avg_100</th>\n",
       "      <th>Open_CLF_avg_100</th>\n",
       "      <th>Open_NVDA_avg_100</th>\n",
       "      <th>Open_RIG_avg_100</th>\n",
       "      <th>Open_XOM_avg_100</th>\n",
       "      <th>Open_X_avg_100</th>\n",
       "      <th>Open_WFC_avg_100</th>\n",
       "      <th>Label</th>\n",
       "    </tr>\n",
       "  </thead>\n",
       "  <tbody>\n",
       "    <tr>\n",
       "      <th>0</th>\n",
       "      <td>2007-02-09</td>\n",
       "      <td>-0.602092</td>\n",
       "      <td>-0.876091</td>\n",
       "      <td>2.070348</td>\n",
       "      <td>2.485201</td>\n",
       "      <td>-0.029368</td>\n",
       "      <td>0.655116</td>\n",
       "      <td>-1.502131</td>\n",
       "      <td>0.539258</td>\n",
       "      <td>2.007668</td>\n",
       "      <td>...</td>\n",
       "      <td>0.191135</td>\n",
       "      <td>-0.314110</td>\n",
       "      <td>-0.588491</td>\n",
       "      <td>-0.215817</td>\n",
       "      <td>-0.512883</td>\n",
       "      <td>1.410122</td>\n",
       "      <td>-0.397819</td>\n",
       "      <td>0.989069</td>\n",
       "      <td>-0.344069</td>\n",
       "      <td>[1, 0, 1, -1, -1, 1, -1, 1, 1, 1, 1, -1, 1, 1,...</td>\n",
       "    </tr>\n",
       "    <tr>\n",
       "      <th>1</th>\n",
       "      <td>2007-02-12</td>\n",
       "      <td>-0.629721</td>\n",
       "      <td>-0.877661</td>\n",
       "      <td>2.014846</td>\n",
       "      <td>2.475456</td>\n",
       "      <td>-0.039635</td>\n",
       "      <td>0.607422</td>\n",
       "      <td>-1.496585</td>\n",
       "      <td>0.511186</td>\n",
       "      <td>1.999984</td>\n",
       "      <td>...</td>\n",
       "      <td>0.186069</td>\n",
       "      <td>-0.309057</td>\n",
       "      <td>-0.582948</td>\n",
       "      <td>-0.212909</td>\n",
       "      <td>-0.512753</td>\n",
       "      <td>1.412389</td>\n",
       "      <td>-0.390529</td>\n",
       "      <td>0.997046</td>\n",
       "      <td>-0.344319</td>\n",
       "      <td>[-1, -1, -1, -1, -1, -1, 1, -1, -1, -1, -1, -1...</td>\n",
       "    </tr>\n",
       "    <tr>\n",
       "      <th>2</th>\n",
       "      <td>2007-02-13</td>\n",
       "      <td>-0.690506</td>\n",
       "      <td>-0.876871</td>\n",
       "      <td>2.042292</td>\n",
       "      <td>2.466522</td>\n",
       "      <td>-0.032220</td>\n",
       "      <td>0.590221</td>\n",
       "      <td>-1.497225</td>\n",
       "      <td>0.496472</td>\n",
       "      <td>1.965404</td>\n",
       "      <td>...</td>\n",
       "      <td>0.180621</td>\n",
       "      <td>-0.304900</td>\n",
       "      <td>-0.577825</td>\n",
       "      <td>-0.210158</td>\n",
       "      <td>-0.512615</td>\n",
       "      <td>1.413621</td>\n",
       "      <td>-0.384490</td>\n",
       "      <td>1.005633</td>\n",
       "      <td>-0.344535</td>\n",
       "      <td>[-1, 0, 1, -1, 1, -1, 0, -1, -1, 1, 1, -1, -1,...</td>\n",
       "    </tr>\n",
       "    <tr>\n",
       "      <th>3</th>\n",
       "      <td>2007-02-14</td>\n",
       "      <td>-0.704320</td>\n",
       "      <td>-0.877444</td>\n",
       "      <td>1.963003</td>\n",
       "      <td>2.520936</td>\n",
       "      <td>0.061895</td>\n",
       "      <td>0.590221</td>\n",
       "      <td>-1.486772</td>\n",
       "      <td>0.498768</td>\n",
       "      <td>1.969246</td>\n",
       "      <td>...</td>\n",
       "      <td>0.175141</td>\n",
       "      <td>-0.300211</td>\n",
       "      <td>-0.572497</td>\n",
       "      <td>-0.206988</td>\n",
       "      <td>-0.512454</td>\n",
       "      <td>1.416018</td>\n",
       "      <td>-0.376938</td>\n",
       "      <td>1.014660</td>\n",
       "      <td>-0.344638</td>\n",
       "      <td>[-1, 0, -1, 1, 1, 0, 1, 1, 1, 1, -1, -1, 1, -1...</td>\n",
       "    </tr>\n",
       "    <tr>\n",
       "      <th>4</th>\n",
       "      <td>2007-02-15</td>\n",
       "      <td>-0.676691</td>\n",
       "      <td>-0.876568</td>\n",
       "      <td>1.963613</td>\n",
       "      <td>2.546925</td>\n",
       "      <td>0.130341</td>\n",
       "      <td>0.598821</td>\n",
       "      <td>-1.455200</td>\n",
       "      <td>0.530179</td>\n",
       "      <td>1.957719</td>\n",
       "      <td>...</td>\n",
       "      <td>0.169662</td>\n",
       "      <td>-0.293980</td>\n",
       "      <td>-0.565702</td>\n",
       "      <td>-0.203855</td>\n",
       "      <td>-0.512350</td>\n",
       "      <td>1.418275</td>\n",
       "      <td>-0.369023</td>\n",
       "      <td>1.023687</td>\n",
       "      <td>-0.344802</td>\n",
       "      <td>[1, 0, 0, 1, 1, 1, 1, 1, -1, 1, 1, 1, 1, 1, -1...</td>\n",
       "    </tr>\n",
       "  </tbody>\n",
       "</table>\n",
       "<p>5 rows × 3962 columns</p>\n",
       "</div>"
      ],
      "text/plain": [
       "         Date  Open_F_x  Open_AAPL_x  Open_AAL_x  Open_BAC_x  Open_VALE_x  \\\n",
       "0  2007-02-09 -0.602092    -0.876091    2.070348    2.485201    -0.029368   \n",
       "1  2007-02-12 -0.629721    -0.877661    2.014846    2.475456    -0.039635   \n",
       "2  2007-02-13 -0.690506    -0.876871    2.042292    2.466522    -0.032220   \n",
       "3  2007-02-14 -0.704320    -0.877444    1.963003    2.520936     0.061895   \n",
       "4  2007-02-15 -0.676691    -0.876568    1.963613    2.546925     0.130341   \n",
       "\n",
       "   Open_CCL_x  Open_ABEV_x  Open_BB_x  Open_FCEL_x  ...  Open_AMD_avg_100  \\\n",
       "0    0.655116    -1.502131   0.539258     2.007668  ...          0.191135   \n",
       "1    0.607422    -1.496585   0.511186     1.999984  ...          0.186069   \n",
       "2    0.590221    -1.497225   0.496472     1.965404  ...          0.180621   \n",
       "3    0.590221    -1.486772   0.498768     1.969246  ...          0.175141   \n",
       "4    0.598821    -1.455200   0.530179     1.957719  ...          0.169662   \n",
       "\n",
       "   Open_BBD_avg_100  Open_ITUB_avg_100  Open_CLF_avg_100  Open_NVDA_avg_100  \\\n",
       "0         -0.314110          -0.588491         -0.215817          -0.512883   \n",
       "1         -0.309057          -0.582948         -0.212909          -0.512753   \n",
       "2         -0.304900          -0.577825         -0.210158          -0.512615   \n",
       "3         -0.300211          -0.572497         -0.206988          -0.512454   \n",
       "4         -0.293980          -0.565702         -0.203855          -0.512350   \n",
       "\n",
       "   Open_RIG_avg_100  Open_XOM_avg_100  Open_X_avg_100  Open_WFC_avg_100  \\\n",
       "0          1.410122         -0.397819        0.989069         -0.344069   \n",
       "1          1.412389         -0.390529        0.997046         -0.344319   \n",
       "2          1.413621         -0.384490        1.005633         -0.344535   \n",
       "3          1.416018         -0.376938        1.014660         -0.344638   \n",
       "4          1.418275         -0.369023        1.023687         -0.344802   \n",
       "\n",
       "                                               Label  \n",
       "0  [1, 0, 1, -1, -1, 1, -1, 1, 1, 1, 1, -1, 1, 1,...  \n",
       "1  [-1, -1, -1, -1, -1, -1, 1, -1, -1, -1, -1, -1...  \n",
       "2  [-1, 0, 1, -1, 1, -1, 0, -1, -1, 1, 1, -1, -1,...  \n",
       "3  [-1, 0, -1, 1, 1, 0, 1, 1, 1, 1, -1, -1, 1, -1...  \n",
       "4  [1, 0, 0, 1, 1, 1, 1, 1, -1, 1, 1, 1, 1, 1, -1...  \n",
       "\n",
       "[5 rows x 3962 columns]"
      ]
     },
     "execution_count": 23,
     "metadata": {},
     "output_type": "execute_result"
    }
   ],
   "source": [
    "df = pd.read_csv(\"data/dataset.csv\")\n",
    "df.head()"
   ]
  },
  {
   "cell_type": "code",
   "execution_count": 50,
   "id": "0c0bcb1e-25cb-4bfb-ada3-5a0cef493c58",
   "metadata": {},
   "outputs": [
    {
     "data": {
      "application/vnd.jupyter.widget-view+json": {
       "model_id": "f004ea508c984df395225b74e309cc9d",
       "version_major": 2,
       "version_minor": 0
      },
      "text/plain": [
       "  0%|          | 0/3670 [00:00<?, ?it/s]"
      ]
     },
     "metadata": {},
     "output_type": "display_data"
    }
   ],
   "source": [
    "X_train, X_test, Y_train, Y_test = [],[],[],[]\n",
    "X = np.array(df.drop([\"Label\",\"Date\"], axis=1))\n",
    "Y = df[\"Label\"]\n",
    "TRAIN_FACTOR = 0.7\n",
    "for i in tnrange(len(df)):\n",
    "    if i < TRAIN_FACTOR*len(df):\n",
    "        X_train.append(X[i])\n",
    "        Y_train.append(eval(Y[i])[5])\n",
    "    else:\n",
    "        X_test.append(X[i])\n",
    "        Y_test.append(eval(Y[i])[5]) \n",
    "X_train = np.array(X_train)\n",
    "Y_train = np.array(Y_train)\n",
    "X_test = np.array(X_test)\n",
    "Y_test = np.array(Y_test)"
   ]
  },
  {
   "cell_type": "code",
   "execution_count": 51,
   "id": "0a5dfbfb-ab77-4687-bb1e-44866dae1738",
   "metadata": {},
   "outputs": [
    {
     "data": {
      "text/plain": [
       "(3670, 3960)"
      ]
     },
     "execution_count": 51,
     "metadata": {},
     "output_type": "execute_result"
    }
   ],
   "source": [
    "X.shape"
   ]
  },
  {
   "cell_type": "code",
   "execution_count": 52,
   "id": "fce7ae3b-b94d-43d1-b51a-65275a0df779",
   "metadata": {},
   "outputs": [
    {
     "data": {
      "text/plain": [
       "(3670,)"
      ]
     },
     "execution_count": 52,
     "metadata": {},
     "output_type": "execute_result"
    }
   ],
   "source": [
    "Y.shape"
   ]
  },
  {
   "cell_type": "code",
   "execution_count": 53,
   "id": "0af79fef-78d8-44b9-9401-17ad4aa2df95",
   "metadata": {},
   "outputs": [],
   "source": [
    "model = nn.Sequential(\n",
    "    nn.Linear(3960,3960),\n",
    "    nn.Tanh(),\n",
    "    nn.Linear(3960,2000),\n",
    "    nn.LeakyReLU(),\n",
    "    nn.Linear(2000,1000),\n",
    "    nn.Tanh(),\n",
    "    nn.Linear(1000,100),\n",
    "    nn.ELU(),\n",
    "    nn.Linear(100,3),\n",
    "    nn.Softmax()\n",
    ")\n",
    "criterion = nn.CrossEntropyLoss().to(device) # <--- WORST LOSS IMPLEMENTATION EVER!!1\n",
    "optimizer = optim.SGD(model.parameters(), lr = 0.01)\n",
    "model = model.to(device)"
   ]
  },
  {
   "cell_type": "code",
   "execution_count": 54,
   "id": "58218934-b9d7-4b5e-a407-8c705bb246f5",
   "metadata": {},
   "outputs": [
    {
     "data": {
      "application/vnd.jupyter.widget-view+json": {
       "model_id": "9ec215b92c8142a58549efb61e6700c2",
       "version_major": 2,
       "version_minor": 0
      },
      "text/plain": [
       "  0%|          | 0/100 [00:00<?, ?it/s]"
      ]
     },
     "metadata": {},
     "output_type": "display_data"
    }
   ],
   "source": [
    "losses = []\n",
    "BATCH_SIZE = 32\n",
    "for i in tnrange(N_EPOCHS):\n",
    "    indices = np.random.choice(X_train.shape[0], BATCH_SIZE, replace=False)\n",
    "    sample_x = X_train[indices]\n",
    "    sample_y = Y_train[indices]\n",
    "    avg_loss = 0.0\n",
    "    for j in range(BATCH_SIZE):\n",
    "        x = torch.Tensor(sample_x[j]).to(device)\n",
    "        target = torch.Tensor([sample_y[j]+1]).type(torch.LongTensor).to(device)\n",
    "        optimizer.zero_grad()\n",
    "        output = model(x)\n",
    "        #print(output)\n",
    "        output = output.reshape((1,3)).float()\n",
    "        loss = criterion(output, target)\n",
    "        avg_loss += float(loss)\n",
    "        loss.backward()\n",
    "        optimizer.step()\n",
    "    avg_loss /= BATCH_SIZE\n",
    "    losses.append(avg_loss)"
   ]
  },
  {
   "cell_type": "code",
   "execution_count": 55,
   "id": "6c78fbf8-9926-4f61-9b2f-62055c0ccb64",
   "metadata": {},
   "outputs": [
    {
     "data": {
      "image/png": "[encoded data removed]",
      "text/plain": [
       "<matplotlib.figure.Figure at 0x7ea902ac88>"
      ]
     },
     "metadata": {
      "needs_background": "light"
     },
     "output_type": "display_data"
    }
   ],
   "source": [
    "plt.plot(losses)\n",
    "plt.show()"
   ]
  },
  {
   "cell_type": "code",
   "execution_count": 17,
   "id": "16ed2ff3-c07d-4a54-ba94-f5fcdd2001a6",
   "metadata": {},
   "outputs": [
    {
     "data": {
      "text/plain": [
       "50159"
      ]
     },
     "execution_count": 17,
     "metadata": {},
     "output_type": "execute_result"
    }
   ],
   "source": [
    "prices = pd.read_csv(\"data/USD_CHF.csv\")"
   ]
  },
  {
   "cell_type": "code",
   "execution_count": 18,
   "id": "cf542210-8c8f-486a-91a1-2e88706d62d7",
   "metadata": {},
   "outputs": [
    {
     "data": {
      "text/plain": [
       "50159"
      ]
     },
     "execution_count": 18,
     "metadata": {},
     "output_type": "execute_result"
    }
   ],
   "source": [
    "len(df)"
   ]
  },
  {
   "cell_type": "code",
   "execution_count": 19,
   "id": "1b9ebc5e-3da6-4b24-987e-0f21cb907441",
   "metadata": {},
   "outputs": [
    {
     "data": {
      "text/plain": [
       "50160"
      ]
     },
     "execution_count": 19,
     "metadata": {},
     "output_type": "execute_result"
    }
   ],
   "source": [
    "prices = prices[1:]"
   ]
  },
  {
   "cell_type": "code",
   "execution_count": 57,
   "id": "5852db5b-b0b5-4d67-832e-6ff72ebbd8aa",
   "metadata": {},
   "outputs": [
    {
     "data": {
      "application/vnd.jupyter.widget-view+json": {
       "model_id": "5882bb84ba8a4590ae86f22a1c238597",
       "version_major": 2,
       "version_minor": 0
      },
      "text/plain": [
       "  0%|          | 0/50159 [00:00<?, ?it/s]"
      ]
     },
     "metadata": {},
     "output_type": "display_data"
    },
    {
     "data": {
      "text/plain": [
       "15047"
      ]
     },
     "execution_count": 57,
     "metadata": {},
     "output_type": "execute_result"
    }
   ],
   "source": [
    "test_prices = []\n",
    "for i in tnrange(len(df)):\n",
    "    if i >= TRAIN_FACTOR*len(df):\n",
    "        test_prices.append((prices[\"OPEN\"][i], prices[\"HIGH\"][i],prices[\"LOW\"][i],))\n",
    "len(test_prices)"
   ]
  },
  {
   "cell_type": "code",
   "execution_count": 58,
   "id": "ad91025d-4e4f-47df-abb0-171a7ef7c62f",
   "metadata": {},
   "outputs": [
    {
     "data": {
      "text/plain": [
       "15047"
      ]
     },
     "execution_count": 58,
     "metadata": {},
     "output_type": "execute_result"
    }
   ],
   "source": [
    "len(X_test)"
   ]
  },
  {
   "cell_type": "code",
   "execution_count": 63,
   "id": "25e7e154-e932-4d5d-a33f-c390bdc0070d",
   "metadata": {},
   "outputs": [],
   "source": [
    "def get_cls(out):\n",
    "    if out[0] > out[1] and out[0] > out[2]:\n",
    "            cls = -1\n",
    "    elif out[1] > out[2] and out[1] > out[0]:\n",
    "            cls = 0\n",
    "    else:\n",
    "            cls = 1\n",
    "    return cls"
   ]
  },
  {
   "cell_type": "code",
   "execution_count": 74,
   "id": "160656a9-33c5-411e-9915-a156ae01c5d6",
   "metadata": {},
   "outputs": [
    {
     "data": {
      "application/vnd.jupyter.widget-view+json": {
       "model_id": "a216add5df24497480f67e669c508ac4",
       "version_major": 2,
       "version_minor": 0
      },
      "text/plain": [
       "  0%|          | 0/15047 [00:00<?, ?it/s]"
      ]
     },
     "metadata": {},
     "output_type": "display_data"
    }
   ],
   "source": [
    "balance = 100000.0\n",
    "pl = 0.0\n",
    "pl_dynamics = []\n",
    "entry_price = None\n",
    "is_buy = None\n",
    "for i in tnrange(len(test_prices)):\n",
    "    if entry_price is not None:\n",
    "        if is_buy:\n",
    "            pl += prices[\"CLOSE\"][i]*100.0-entry_price*100.0\n",
    "            entry_price = None\n",
    "            is_buy = None\n",
    "        else:\n",
    "            pl += entry_price*100.0 - prices[\"CLOSE\"][i]*100.0\n",
    "            is_buy = None\n",
    "            entry_price = None\n",
    "    pl_dynamics.append(pl)\n",
    "    out = model(torch.Tensor(X_test[i]).to(device))\n",
    "    prediction = get_cls(out)\n",
    "    if prediction == 1:\n",
    "        entry_price = test_prices[i][0]\n",
    "        is_buy = True\n",
    "    if prediction == -1:\n",
    "        entry_price = test_prices[i][0]\n",
    "        is_buy = False\n",
    "    "
   ]
  },
  {
   "cell_type": "code",
   "execution_count": 75,
   "id": "0ae7ad0a-eda9-42de-be92-c22ffbe9f047",
   "metadata": {},
   "outputs": [
    {
     "data": {
      "text/plain": [
       "119.32499999999844"
      ]
     },
     "execution_count": 75,
     "metadata": {},
     "output_type": "execute_result"
    }
   ],
   "source": [
    "pl"
   ]
  },
  {
   "cell_type": "code",
   "execution_count": 76,
   "id": "4259ef19-d998-44de-bcf0-7b7205222719",
   "metadata": {},
   "outputs": [
    {
     "data": {
      "image/png": "[encoded data removed]",
      "text/plain": [
       "<matplotlib.figure.Figure at 0x7f090a3b70>"
      ]
     },
     "metadata": {
      "needs_background": "light"
     },
     "output_type": "display_data"
    }
   ],
   "source": [
    "plt.plot(pl_dynamics)\n",
    "plt.show()"
   ]
  },
  {
   "cell_type": "code",
   "execution_count": null,
   "id": "201594b4-0944-456c-9da8-56d2dc8dabe2",
   "metadata": {},
   "outputs": [],
   "source": []
  }
 ],
 "metadata": {
  "kernelspec": {
   "display_name": "Python 3",
   "language": "python",
   "name": "python3"
  },
  "language_info": {
   "codemirror_mode": {
    "name": "ipython",
    "version": 3
   },
   "file_extension": ".py",
   "mimetype": "text/x-python",
   "name": "python",
   "nbconvert_exporter": "python",
   "pygments_lexer": "ipython3",
   "version": "3.6.9"
  }
 },
 "nbformat": 4,
 "nbformat_minor": 5
}
